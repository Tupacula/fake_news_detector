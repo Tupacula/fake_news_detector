{
 "cells": [
  {
   "cell_type": "code",
   "execution_count": 28,
   "id": "efb2cffd-237f-490b-8117-31709817c080",
   "metadata": {},
   "outputs": [],
   "source": [
    "import pandas as pd\n",
    "import numpy as np\n",
    "import matplotlib.pyplot as plt\n"
   ]
  },
  {
   "cell_type": "code",
   "execution_count": 29,
   "id": "4d647f7d-2f5b-4d87-97fd-2cebef7daad4",
   "metadata": {},
   "outputs": [],
   "source": [
    "#Reading in data sets and assigning a target variable, then concatenating the tables\n",
    "fake = pd.read_csv('Fake.csv')\n",
    "true = pd.read_csv('True.csv')\n",
    "storage = true['text'].copy()\n",
    "\n",
    "\n",
    "true['Fake?'] = 0\n",
    "fake['Fake?'] = 1\n",
    "\n",
    "#remove the headers for true articles\n",
    "\n",
    "\n",
    "text = true['text'].str.split('-', 1, expand = True)\n",
    "true['text'] = text[1]\n",
    "\n",
    "origin = text[0]\n",
    "\n",
    "#text of article at index = 8247 must be replaced\n",
    "\n",
    "true['text'].iloc[8247] = storage.iloc[8247]\n",
    "news = pd.concat([true, fake], ignore_index = True)"
   ]
  },
  {
   "cell_type": "code",
   "execution_count": 31,
   "id": "0c57ca52-4206-41a7-b909-7c54f226a5c8",
   "metadata": {},
   "outputs": [
    {
     "data": {
      "text/plain": [
       "title        Obama drinks coconut water to cool down in Laos\n",
       "text       U.S. President Barack Obama visited a street m...\n",
       "subject                                         politicsNews\n",
       "date                                      September 7, 2016 \n",
       "Fake?                                                      0\n",
       "Name: 8247, dtype: object"
      ]
     },
     "execution_count": 31,
     "metadata": {},
     "output_type": "execute_result"
    }
   ],
   "source": [
    "true.iloc[8247]"
   ]
  },
  {
   "cell_type": "code",
   "execution_count": 158,
   "id": "acb74a7c-7cd0-41ea-bbf0-b43540ddb0ab",
   "metadata": {},
   "outputs": [],
   "source": []
  },
  {
   "cell_type": "code",
   "execution_count": 33,
   "id": "38e073d5-b2bb-41ef-920d-c5280ffe4b74",
   "metadata": {},
   "outputs": [
    {
     "name": "stdout",
     "output_type": "stream",
     "text": [
      "44898\n",
      "21417\n",
      "23481\n"
     ]
    }
   ],
   "source": [
    "#eda\n",
    "\n",
    "print(len(news))\n",
    "\n",
    "print(len(news[news['Fake?'] == 0]))\n",
    "\n",
    "print(len(news[news['Fake?'] == 1]))"
   ]
  },
  {
   "cell_type": "code",
   "execution_count": 43,
   "id": "7abdb1fb-af73-46ea-99ca-d52771341cba",
   "metadata": {},
   "outputs": [],
   "source": [
    "#Feature engineering, first attempt\n",
    "\n",
    "from sklearn.feature_extraction.text import CountVectorizer, TfidfVectorizer\n",
    "\n",
    "tfidf_vectorizer = TfidfVectorizer(strip_accents = 'ascii', stop_words = 'english', max_features = 10000)\n",
    "count_vectorizer = CountVectorizer(strip_accents = 'ascii', stop_words = 'english', max_features = 10000)\n",
    "count_vectorizer_2 = CountVectorizer(strip_accents = 'ascii', stop_words = 'english')\n",
    "\n",
    "\n"
   ]
  },
  {
   "cell_type": "code",
   "execution_count": 40,
   "id": "d26f9e50-258f-493e-8a2d-085a342ffc92",
   "metadata": {},
   "outputs": [],
   "source": [
    "news[news['text'].isna()]\n",
    "news['text'].fillna('', inplace = True)"
   ]
  },
  {
   "cell_type": "code",
   "execution_count": 22,
   "id": "58003074-fc3a-417a-bfc5-6bca2cfd4c46",
   "metadata": {},
   "outputs": [
    {
     "data": {
      "text/plain": [
       "' '"
      ]
     },
     "execution_count": 22,
     "metadata": {},
     "output_type": "execute_result"
    }
   ],
   "source": [
    "storage.iloc[8970]"
   ]
  },
  {
   "cell_type": "code",
   "execution_count": 41,
   "id": "dbfa8654-4870-4268-8025-7ea74e259f18",
   "metadata": {},
   "outputs": [],
   "source": [
    "X = count_vectorizer.fit_transform(news['text'])\n",
    "y= news['Fake?']"
   ]
  },
  {
   "cell_type": "code",
   "execution_count": 67,
   "id": "6470aa61-a745-4949-a07f-c9e8af28fa1a",
   "metadata": {},
   "outputs": [
    {
     "data": {
      "text/plain": [
       "0          (0, 7559)\\t0.04316014467737996\\n  (0, 151)\\t...\n",
       "1          (0, 7559)\\t0.04316014467737996\\n  (0, 151)\\t...\n",
       "2          (0, 7559)\\t0.04316014467737996\\n  (0, 151)\\t...\n",
       "3          (0, 7559)\\t0.04316014467737996\\n  (0, 151)\\t...\n",
       "4          (0, 7559)\\t0.04316014467737996\\n  (0, 151)\\t...\n",
       "                               ...                        \n",
       "44893      (0, 7559)\\t0.04316014467737996\\n  (0, 151)\\t...\n",
       "44894      (0, 7559)\\t0.04316014467737996\\n  (0, 151)\\t...\n",
       "44895      (0, 7559)\\t0.04316014467737996\\n  (0, 151)\\t...\n",
       "44896      (0, 7559)\\t0.04316014467737996\\n  (0, 151)\\t...\n",
       "44897      (0, 7559)\\t0.04316014467737996\\n  (0, 151)\\t...\n",
       "Name: text, Length: 44898, dtype: object"
      ]
     },
     "execution_count": 67,
     "metadata": {},
     "output_type": "execute_result"
    }
   ],
   "source": []
  },
  {
   "cell_type": "code",
   "execution_count": 29,
   "id": "2fdc4f64-a852-4dfb-84b3-728a07aabc5f",
   "metadata": {},
   "outputs": [
    {
     "data": {
      "text/html": [
       "<div>\n",
       "<style scoped>\n",
       "    .dataframe tbody tr th:only-of-type {\n",
       "        vertical-align: middle;\n",
       "    }\n",
       "\n",
       "    .dataframe tbody tr th {\n",
       "        vertical-align: top;\n",
       "    }\n",
       "\n",
       "    .dataframe thead th {\n",
       "        text-align: right;\n",
       "    }\n",
       "</style>\n",
       "<table border=\"1\" class=\"dataframe\">\n",
       "  <thead>\n",
       "    <tr style=\"text-align: right;\">\n",
       "      <th></th>\n",
       "      <th>title</th>\n",
       "      <th>text</th>\n",
       "      <th>subject</th>\n",
       "      <th>date</th>\n",
       "    </tr>\n",
       "  </thead>\n",
       "  <tbody>\n",
       "    <tr>\n",
       "      <th>0</th>\n",
       "      <td>As U.S. budget fight looms, Republicans flip t...</td>\n",
       "      <td>(0, 7559)\\t0.04316014467737996\\n  (0, 151)\\t...</td>\n",
       "      <td>politicsNews</td>\n",
       "      <td>December 31, 2017</td>\n",
       "    </tr>\n",
       "    <tr>\n",
       "      <th>1</th>\n",
       "      <td>U.S. military to accept transgender recruits o...</td>\n",
       "      <td>(0, 7559)\\t0.04316014467737996\\n  (0, 151)\\t...</td>\n",
       "      <td>politicsNews</td>\n",
       "      <td>December 29, 2017</td>\n",
       "    </tr>\n",
       "    <tr>\n",
       "      <th>2</th>\n",
       "      <td>Senior U.S. Republican senator: 'Let Mr. Muell...</td>\n",
       "      <td>(0, 7559)\\t0.04316014467737996\\n  (0, 151)\\t...</td>\n",
       "      <td>politicsNews</td>\n",
       "      <td>December 31, 2017</td>\n",
       "    </tr>\n",
       "    <tr>\n",
       "      <th>3</th>\n",
       "      <td>FBI Russia probe helped by Australian diplomat...</td>\n",
       "      <td>(0, 7559)\\t0.04316014467737996\\n  (0, 151)\\t...</td>\n",
       "      <td>politicsNews</td>\n",
       "      <td>December 30, 2017</td>\n",
       "    </tr>\n",
       "    <tr>\n",
       "      <th>4</th>\n",
       "      <td>Trump wants Postal Service to charge 'much mor...</td>\n",
       "      <td>(0, 7559)\\t0.04316014467737996\\n  (0, 151)\\t...</td>\n",
       "      <td>politicsNews</td>\n",
       "      <td>December 29, 2017</td>\n",
       "    </tr>\n",
       "    <tr>\n",
       "      <th>...</th>\n",
       "      <td>...</td>\n",
       "      <td>...</td>\n",
       "      <td>...</td>\n",
       "      <td>...</td>\n",
       "    </tr>\n",
       "    <tr>\n",
       "      <th>44893</th>\n",
       "      <td>McPain: John McCain Furious That Iran Treated ...</td>\n",
       "      <td>(0, 7559)\\t0.04316014467737996\\n  (0, 151)\\t...</td>\n",
       "      <td>Middle-east</td>\n",
       "      <td>January 16, 2016</td>\n",
       "    </tr>\n",
       "    <tr>\n",
       "      <th>44894</th>\n",
       "      <td>JUSTICE? Yahoo Settles E-mail Privacy Class-ac...</td>\n",
       "      <td>(0, 7559)\\t0.04316014467737996\\n  (0, 151)\\t...</td>\n",
       "      <td>Middle-east</td>\n",
       "      <td>January 16, 2016</td>\n",
       "    </tr>\n",
       "    <tr>\n",
       "      <th>44895</th>\n",
       "      <td>Sunnistan: US and Allied ‘Safe Zone’ Plan to T...</td>\n",
       "      <td>(0, 7559)\\t0.04316014467737996\\n  (0, 151)\\t...</td>\n",
       "      <td>Middle-east</td>\n",
       "      <td>January 15, 2016</td>\n",
       "    </tr>\n",
       "    <tr>\n",
       "      <th>44896</th>\n",
       "      <td>How to Blow $700 Million: Al Jazeera America F...</td>\n",
       "      <td>(0, 7559)\\t0.04316014467737996\\n  (0, 151)\\t...</td>\n",
       "      <td>Middle-east</td>\n",
       "      <td>January 14, 2016</td>\n",
       "    </tr>\n",
       "    <tr>\n",
       "      <th>44897</th>\n",
       "      <td>10 U.S. Navy Sailors Held by Iranian Military ...</td>\n",
       "      <td>(0, 7559)\\t0.04316014467737996\\n  (0, 151)\\t...</td>\n",
       "      <td>Middle-east</td>\n",
       "      <td>January 12, 2016</td>\n",
       "    </tr>\n",
       "  </tbody>\n",
       "</table>\n",
       "<p>44898 rows × 4 columns</p>\n",
       "</div>"
      ],
      "text/plain": [
       "                                                   title  \\\n",
       "0      As U.S. budget fight looms, Republicans flip t...   \n",
       "1      U.S. military to accept transgender recruits o...   \n",
       "2      Senior U.S. Republican senator: 'Let Mr. Muell...   \n",
       "3      FBI Russia probe helped by Australian diplomat...   \n",
       "4      Trump wants Postal Service to charge 'much mor...   \n",
       "...                                                  ...   \n",
       "44893  McPain: John McCain Furious That Iran Treated ...   \n",
       "44894  JUSTICE? Yahoo Settles E-mail Privacy Class-ac...   \n",
       "44895  Sunnistan: US and Allied ‘Safe Zone’ Plan to T...   \n",
       "44896  How to Blow $700 Million: Al Jazeera America F...   \n",
       "44897  10 U.S. Navy Sailors Held by Iranian Military ...   \n",
       "\n",
       "                                                    text       subject  \\\n",
       "0        (0, 7559)\\t0.04316014467737996\\n  (0, 151)\\t...  politicsNews   \n",
       "1        (0, 7559)\\t0.04316014467737996\\n  (0, 151)\\t...  politicsNews   \n",
       "2        (0, 7559)\\t0.04316014467737996\\n  (0, 151)\\t...  politicsNews   \n",
       "3        (0, 7559)\\t0.04316014467737996\\n  (0, 151)\\t...  politicsNews   \n",
       "4        (0, 7559)\\t0.04316014467737996\\n  (0, 151)\\t...  politicsNews   \n",
       "...                                                  ...           ...   \n",
       "44893    (0, 7559)\\t0.04316014467737996\\n  (0, 151)\\t...   Middle-east   \n",
       "44894    (0, 7559)\\t0.04316014467737996\\n  (0, 151)\\t...   Middle-east   \n",
       "44895    (0, 7559)\\t0.04316014467737996\\n  (0, 151)\\t...   Middle-east   \n",
       "44896    (0, 7559)\\t0.04316014467737996\\n  (0, 151)\\t...   Middle-east   \n",
       "44897    (0, 7559)\\t0.04316014467737996\\n  (0, 151)\\t...   Middle-east   \n",
       "\n",
       "                     date  \n",
       "0      December 31, 2017   \n",
       "1      December 29, 2017   \n",
       "2      December 31, 2017   \n",
       "3      December 30, 2017   \n",
       "4      December 29, 2017   \n",
       "...                   ...  \n",
       "44893    January 16, 2016  \n",
       "44894    January 16, 2016  \n",
       "44895    January 15, 2016  \n",
       "44896    January 14, 2016  \n",
       "44897    January 12, 2016  \n",
       "\n",
       "[44898 rows x 4 columns]"
      ]
     },
     "execution_count": 29,
     "metadata": {},
     "output_type": "execute_result"
    }
   ],
   "source": []
  },
  {
   "cell_type": "code",
   "execution_count": 42,
   "id": "55b52acb-9586-44f2-a9e0-f1b038642cf6",
   "metadata": {},
   "outputs": [
    {
     "name": "stdout",
     "output_type": "stream",
     "text": [
      "dict_keys(['fit_time', 'score_time', 'test_acc', 'test_prec', 'test_rec'])\n",
      "0.9217337707806708\n",
      "0.922421760794639\n",
      "0.9337331015955307\n"
     ]
    }
   ],
   "source": [
    "from sklearn.naive_bayes import MultinomialNB\n",
    "from sklearn.model_selection import cross_validate\n",
    "\n",
    "scoring = {'acc': 'accuracy',\n",
    "           'prec': 'precision',\n",
    "           'rec': 'recall'}\n",
    "\n",
    "scores = cross_validate(MultinomialNB(), X, y, scoring=scoring,\n",
    "                         cv=5)\n",
    "print(scores.keys())\n",
    "print(np.mean(scores['test_acc'])) \n",
    "print(np.mean(scores['test_prec']))\n",
    "print(np.mean(scores['test_rec']))\n",
    "\n"
   ]
  },
  {
   "cell_type": "code",
   "execution_count": 86,
   "id": "e6618681-c5f4-473d-8bc2-cefbf9b9a6d4",
   "metadata": {},
   "outputs": [],
   "source": [
    "mnb = MultinomialNB()"
   ]
  },
  {
   "cell_type": "code",
   "execution_count": 87,
   "id": "42dd225b-dabc-4862-9b88-657bd66a1585",
   "metadata": {},
   "outputs": [
    {
     "data": {
      "text/plain": [
       "MultinomialNB()"
      ]
     },
     "execution_count": 87,
     "metadata": {},
     "output_type": "execute_result"
    }
   ],
   "source": [
    "mnb.fit(X,y)"
   ]
  },
  {
   "cell_type": "code",
   "execution_count": 70,
   "id": "8e860459-2cb5-4895-ad26-fa8678777908",
   "metadata": {},
   "outputs": [
    {
     "data": {
      "text/plain": [
       "0        0.0\n",
       "1        0.0\n",
       "2        0.0\n",
       "3        0.0\n",
       "4        0.0\n",
       "        ... \n",
       "44893    0.0\n",
       "44894    0.0\n",
       "44895    0.0\n",
       "44896    0.0\n",
       "44897    0.0\n",
       "Name: text, Length: 44898, dtype: float64"
      ]
     },
     "execution_count": 70,
     "metadata": {},
     "output_type": "execute_result"
    }
   ],
   "source": [
    "X"
   ]
  },
  {
   "cell_type": "code",
   "execution_count": 43,
   "id": "c0e23810-4420-4675-82a2-43638daf3e16",
   "metadata": {},
   "outputs": [
    {
     "data": {
      "text/plain": [
       "0"
      ]
     },
     "execution_count": 43,
     "metadata": {},
     "output_type": "execute_result"
    }
   ],
   "source": [
    "X.isna().sum()"
   ]
  },
  {
   "cell_type": "code",
   "execution_count": 44,
   "id": "93737786-85cc-46ac-b25b-c27f778dba94",
   "metadata": {},
   "outputs": [],
   "source": [
    "X_2 = count_vectorizer.fit_transform(news['text'])"
   ]
  },
  {
   "cell_type": "code",
   "execution_count": 47,
   "id": "c4113401-2537-45e6-bb3c-30abeb3bb38d",
   "metadata": {},
   "outputs": [
    {
     "data": {
      "text/plain": [
       "44898"
      ]
     },
     "execution_count": 47,
     "metadata": {},
     "output_type": "execute_result"
    }
   ],
   "source": [
    "len(X)"
   ]
  },
  {
   "cell_type": "code",
   "execution_count": null,
   "id": "a7358bc0-0d73-4447-ab11-67846c45b588",
   "metadata": {},
   "outputs": [],
   "source": []
  }
 ],
 "metadata": {
  "kernelspec": {
   "display_name": "Python 3",
   "language": "python",
   "name": "python3"
  },
  "language_info": {
   "codemirror_mode": {
    "name": "ipython",
    "version": 3
   },
   "file_extension": ".py",
   "mimetype": "text/x-python",
   "name": "python",
   "nbconvert_exporter": "python",
   "pygments_lexer": "ipython3",
   "version": "3.8.10"
  }
 },
 "nbformat": 4,
 "nbformat_minor": 5
}
